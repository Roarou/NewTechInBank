{
 "cells": [
  {
   "cell_type": "code",
   "execution_count": 44,
   "id": "d5413235",
   "metadata": {},
   "outputs": [
    {
     "name": "stdout",
     "output_type": "stream",
     "text": [
      "Empirical mean: age = 49.17231340212181\n",
      "Empirical mean: monthly income in CHF 1000 = 8.01899529753286\n",
      "Empirical mean: self-employed indicator = 0.09895\n"
     ]
    }
   ],
   "source": [
    "#your name: Cherif.  Dezons\n",
    "#your student number: .....  ....\n",
    "\n",
    "\n",
    "import numpy as np\n",
    "\n",
    "\n",
    "#Question 1\n",
    "#J = np.random.randint(5000)\n",
    "#K = np.random.randint(5000)\n",
    "J = 20000\n",
    "K = 5000\n",
    "num_samples = J + K\n",
    "\n",
    "# draw random numbers for every feature\n",
    "x_1 = np.random.uniform(low=18., high=80., size=(num_samples, 1))              \n",
    "x_2 = np.random.uniform(low=1., high=15., size=(num_samples, 1))                \n",
    "x_3 = np.float32(np.random.uniform(low=0., high=1., size=(num_samples, 1)) < .1)\n",
    "X = np.concatenate([x_1, x_2, x_3], axis=1)\n",
    "X_J = X[:J, :]\n",
    "\n",
    "# means \n",
    "Mean_J = np.mean(X_J, axis=0)\n",
    "print('Empirical mean: age = ' + str(Mean_J[0]))\n",
    "print('Empirical mean: monthly income in CHF 1000 = ' + str(Mean_J[1]))\n",
    "print('Empirical mean: self-employed indicator = ' + str(Mean_J[2]))    \n"
   ]
  },
  {
   "cell_type": "code",
   "execution_count": 45,
   "id": "d96e283c",
   "metadata": {},
   "outputs": [
    {
     "name": "stdout",
     "output_type": "stream",
     "text": [
      "Default rate 0.99%\n"
     ]
    }
   ],
   "source": [
    "# EXERCISE 2\n",
    "sigmoid = lambda x: 1. / (1. + np.exp(-x))\n",
    "\n",
    "#Linear model\n",
    "\n",
    "# Model parameters \n",
    "a_0 = -10\n",
    "a_1 = 3\n",
    "a_2 = -7\n",
    "a_3 = 15\n",
    "\n",
    "p_x = sigmoid(a_0 + a_1 * np.sqrt(np.absolute(x_1 - 55)) + a_2 * x_2 + a_3 * x_3)\n",
    "y = np.float32(np.squeeze(np.random.uniform(size=(num_samples, 1)) < p_x))\n",
    "print(\"Default rate {:.2f}%\".format(np.mean(y[:J]) * 100.))\n"
   ]
  },
  {
   "cell_type": "code",
   "execution_count": 46,
   "id": "76b9e157",
   "metadata": {},
   "outputs": [
    {
     "name": "stdout",
     "output_type": "stream",
     "text": [
      "total deviance for training data = 0.01208949833206525\n",
      "total deviance for test data = 0.009281194635954304\n"
     ]
    }
   ],
   "source": [
    "from sklearn.linear_model import LogisticRegression\n",
    "from sklearn import metrics\n",
    "import matplotlib.pyplot as plt\n",
    "from sklearn.metrics import log_loss\n",
    "\n",
    "#Non linear model \n",
    "\n",
    "X_train = X[:J, :]\n",
    "X_test = X[J:, :]\n",
    "y_train = y[:J]\n",
    "y_test = y[J:]\n",
    "p_test = p_x[J:]\n",
    "\n",
    "# logitic regression\n",
    "model_LR = LogisticRegression().fit(X_train, y_train)\n",
    "\n",
    "#scores \n",
    "scores_LR_train = model_LR.predict_proba(X_train)\n",
    "scores_LR = model_LR.predict_proba(X_test)\n",
    "# total deviance\n",
    "\n",
    "print('total deviance for training data = ' + str(log_loss(y_train, scores_LR_train[:, 1])))\n",
    "print('total deviance for test data = ' + str(log_loss(y_test, scores_LR[:, 1])))"
   ]
  },
  {
   "cell_type": "code",
   "execution_count": 47,
   "id": "ee78bdcc",
   "metadata": {},
   "outputs": [
    {
     "name": "stdout",
     "output_type": "stream",
     "text": [
      "fraction of y_j=1: 0.0\n"
     ]
    }
   ],
   "source": [
    "# Fraction of ones \n",
    "comp_LR = np.stack((scores_LR[:,1], y_test), axis=-1)\n",
    "select = (comp_LR[:, 0] <= 0.04) & (comp_LR[:, 0] >= 0.03)\n",
    "comp_LR_select = comp_LR[select, :]\n",
    "print('fraction of y_j=1: ' + str( np.mean(comp_LR_select[:,1]) ) )"
   ]
  },
  {
   "cell_type": "code",
   "execution_count": 48,
   "id": "e0ab2882",
   "metadata": {},
   "outputs": [
    {
     "name": "stdout",
     "output_type": "stream",
     "text": [
      "Epoch 1/10\n",
      "79/79 [==============================] - 0s 944us/step - loss: 0.2266\n",
      "Epoch 2/10\n",
      "79/79 [==============================] - 0s 856us/step - loss: 0.0495\n",
      "Epoch 3/10\n",
      "79/79 [==============================] - 0s 828us/step - loss: 0.0344\n",
      "Epoch 4/10\n",
      "79/79 [==============================] - 0s 816us/step - loss: 0.0283\n",
      "Epoch 5/10\n",
      "79/79 [==============================] - 0s 843us/step - loss: 0.0245\n",
      "Epoch 6/10\n",
      "79/79 [==============================] - 0s 822us/step - loss: 0.0214\n",
      "Epoch 7/10\n",
      "79/79 [==============================] - 0s 829us/step - loss: 0.0195\n",
      "Epoch 8/10\n",
      "79/79 [==============================] - 0s 841us/step - loss: 0.0177\n",
      "Epoch 9/10\n",
      "79/79 [==============================] - 0s 859us/step - loss: 0.0165\n",
      "Epoch 10/10\n",
      "79/79 [==============================] - 0s 845us/step - loss: 0.0161\n"
     ]
    },
    {
     "data": {
      "text/plain": [
       "<keras.callbacks.History at 0x292567dc0>"
      ]
     },
     "execution_count": 48,
     "metadata": {},
     "output_type": "execute_result"
    }
   ],
   "source": [
    "# Neural network\n",
    "\n",
    "# Create and train neural network\n",
    "\n",
    "import tensorflow as tf\n",
    "from tensorflow import keras \n",
    "\n",
    "#build the nn model with 2 hidden layers\n",
    "model_NN = keras.Sequential(\n",
    "    [\n",
    "     keras.layers.BatchNormalization(),\n",
    "     keras.layers.Dense(32, activation='relu', name=\"hidden_layer_1\"),\n",
    "     keras.layers.Dense(32, activation='relu', name=\"hidden_layer_2\"),\n",
    "     keras.layers.Dense(1, activation='sigmoid', name=\"output_layer\")\n",
    "    ]\n",
    ")\n",
    "\n",
    "#the loss function\n",
    "def total_deviance(y_true, y_pred):\n",
    "    return tf.math.reduce_mean(-y_true * tf.math.log(y_pred) - (1. - y_true) * tf.math.log(1. - y_pred))\n",
    "\n",
    "#pick an optimizer\n",
    "model_NN.compile(\n",
    "    optimizer=keras.optimizers.Adam(learning_rate=0.001),\n",
    "    loss=total_deviance\n",
    ")\n",
    "\n",
    "#shuffle the data during training\n",
    "train_dataset = tf.data.Dataset.from_tensor_slices((X_train, np.float32(y_train)))\n",
    "train_dataset = train_dataset.shuffle(buffer_size=1024).batch(256)\n",
    "\n",
    "#fit the model\n",
    "model_NN.fit(\n",
    "    train_dataset,\n",
    "    batch_size=256,\n",
    "    epochs=10\n",
    ")\n",
    "\n"
   ]
  },
  {
   "cell_type": "code",
   "execution_count": 49,
   "id": "745f050d",
   "metadata": {},
   "outputs": [
    {
     "name": "stdout",
     "output_type": "stream",
     "text": [
      "total deviance for training data = 0.01433142086749518\n",
      "total deviance for test data = 0.012356143762047054\n"
     ]
    }
   ],
   "source": [
    "#scores on the test\n",
    "scores_NN_train = model_NN(X_train)\n",
    "scores_NN = model_NN(X_test)\n",
    "\n",
    "print('total deviance for training data = ' + str(log_loss(y_train, scores_NN_train)))\n",
    "print('total deviance for test data = ' + str(log_loss(y_test, scores_NN)))"
   ]
  },
  {
   "cell_type": "code",
   "execution_count": 50,
   "id": "28c7af79",
   "metadata": {},
   "outputs": [
    {
     "name": "stdout",
     "output_type": "stream",
     "text": [
      "fraction of y_j=1: 0.028571429\n"
     ]
    }
   ],
   "source": [
    "# fraction of ones \n",
    "\n",
    "comp_NN = np.stack((scores_NN.numpy()[:,0], y_test), axis=-1)\n",
    "select = (comp_NN[:, 0] <= 0.04) & (comp_NN[:, 0] >= 0.03)\n",
    "comp_NN_select = comp_NN[select, :]\n",
    "print('fraction of y_j=1: ' + str( np.mean(comp_NN_select[:,1]) ) )"
   ]
  },
  {
   "cell_type": "code",
   "execution_count": 51,
   "id": "20c98cf0",
   "metadata": {},
   "outputs": [
    {
     "data": {
      "text/plain": [
       "<matplotlib.legend.Legend at 0x292a08d30>"
      ]
     },
     "execution_count": 51,
     "metadata": {},
     "output_type": "execute_result"
    },
    {
     "data": {
      "image/png": "[encoded data removed]",
      "text/plain": [
       "<Figure size 432x288 with 1 Axes>"
      ]
     },
     "metadata": {
      "needs_background": "light"
     },
     "output_type": "display_data"
    }
   ],
   "source": [
    "# Plot of the ROC curve\n",
    "from sklearn.metrics import roc_auc_score\n",
    "\n",
    "fpr_LR, tpr_LR, thresholds_LR = metrics.roc_curve(y_test, scores_LR[:, 1], pos_label=1)\n",
    "auc_LR = roc_auc_score(y_test, scores_LR[:, 1])\n",
    "fpr_NN, tpr_NN, thresholds_NN = metrics.roc_curve(y_test, scores_NN[:, 0], pos_label=1)\n",
    "auc_NN = roc_auc_score(y_test, scores_NN[:, 0])\n",
    "\n",
    "plt.plot(fpr_NN, tpr_NN, label='NN model AUC={:.2f}'.format(auc_NN))\n",
    "plt.plot(fpr_LR, tpr_LR, label='LR model AUC={:.2f}'.format(auc_LR))\n",
    "plt.plot([0, 1], [0, 1], 'k--')\n",
    "plt.xlabel('False positive rate')\n",
    "plt.ylabel('True positive rate')\n",
    "plt.title('ROC curve (NN vs. LR)')\n",
    "plt.legend(loc='best')"
   ]
  },
  {
   "cell_type": "code",
   "execution_count": 54,
   "id": "e718fcca",
   "metadata": {},
   "outputs": [
    {
     "name": "stdout",
     "output_type": "stream",
     "text": [
      "0.08151039015819711\n"
     ]
    },
    {
     "data": {
      "text/plain": [
       "<matplotlib.legend.Legend at 0x292d32850>"
      ]
     },
     "execution_count": 54,
     "metadata": {},
     "output_type": "execute_result"
    },
    {
     "data": {
      "image/png": "[encoded data removed]",
      "text/plain": [
       "<Figure size 432x288 with 1 Axes>"
      ]
     },
     "metadata": {
      "needs_background": "light"
     },
     "output_type": "display_data"
    }
   ],
   "source": [
    "# EXERCISE 3\n",
    "\n",
    "# Expected P &L\n",
    "\n",
    "from scipy.stats import norm\n",
    "import matplotlib as mpl\n",
    "\n",
    "portfolio_size = K  \n",
    "rate = 0.04 \n",
    "loan_amount = 1000\n",
    "\n",
    "defaults = np.float32(np.random.uniform(low=0., high=1., size=(portfolio_size, 50000)) < p_test[:portfolio_size, :])  # select last K samples, which form the 'test' dataset\n",
    "defaultR_ins = np.mean(y[:J])\n",
    "threshold = np.quantile(scores_NN_train, 1.-2*defaultR_ins)\n",
    "# threshold = 0.2 # To compare to an arbitrary threshold\n",
    "print(threshold)\n",
    "p_and_l_NN = np.sum(loan_amount * (rate * (1. - defaults) - defaults) * np.float32(scores_NN < threshold), axis=0)\n",
    "\n",
    "plt.figure(2)\n",
    "plt.hist(p_and_l_NN, bins=100, label='NN')\n",
    "plt.legend()"
   ]
  },
  {
   "cell_type": "code",
   "execution_count": 56,
   "id": "4d546734",
   "metadata": {},
   "outputs": [
    {
     "name": "stdout",
     "output_type": "stream",
     "text": [
      "Expected P&L (NN): 191516.20\n",
      "VaR (NN): -187800.00\n"
     ]
    }
   ],
   "source": [
    "# PART B\n",
    "# Compute the 'pct_VaR'%-VaR\n",
    "pct_VaR=95\n",
    "index = int(( (100-pct_VaR)*50000/100 )-1)\n",
    "print('Expected P&L (NN): {:.2f}'.format(np.mean(p_and_l_NN)))\n",
    "\n",
    "p_and_l_b_NN = np.sort(p_and_l_NN)\n",
    "print('VaR (NN): {:.2f}'.format(-p_and_l_b_NN[index]))"
   ]
  },
  {
   "cell_type": "code",
   "execution_count": 57,
   "id": "7d8ecb68",
   "metadata": {},
   "outputs": [
    {
     "name": "stdout",
     "output_type": "stream",
     "text": [
      "     fun: 0.0013228859265289508\n",
      "     jac: array([-5.38250809e-05])\n",
      " message: 'Optimization terminated successfully'\n",
      "    nfev: 2\n",
      "     nit: 1\n",
      "    njev: 1\n",
      "  status: 0\n",
      " success: True\n",
      "       x: array([0.12])\n"
     ]
    }
   ],
   "source": [
    "from scipy.optimize import minimize\n",
    "def to_opt(threshold):\n",
    "  to_give_a_loan = scores_NN_train.numpy() < threshold\n",
    "  pred_not_default = to_give_a_loan[to_give_a_loan] * 1 # Looks weird is correct\n",
    "  # print(pred_not_default.shape)\n",
    "  true_defaults = y_train[to_give_a_loan[:,0]]\n",
    "  return np.absolute(np.average((pred_not_default - true_defaults) == 0))\n",
    "\n",
    "res = minimize(to_opt, np.array(0.12), bounds=((0,1),), method=\"SLSQP\", options={'eps':0.01})\n",
    "print(res)"
   ]
  },
  {
   "cell_type": "code",
   "execution_count": 58,
   "id": "a6d0b9e0",
   "metadata": {},
   "outputs": [
    {
     "data": {
      "text/plain": [
       "<matplotlib.legend.Legend at 0x292e86280>"
      ]
     },
     "execution_count": 58,
     "metadata": {},
     "output_type": "execute_result"
    },
    {
     "data": {
      "image/png": "[encoded data removed]",
      "text/plain": [
       "<Figure size 432x288 with 1 Axes>"
      ]
     },
     "metadata": {
      "needs_background": "light"
     },
     "output_type": "display_data"
    }
   ],
   "source": [
    "# Rerun the code to for the new threshold\n",
    "p_and_l_NN = np.sum(loan_amount * (rate * (1. - defaults) - defaults) * np.float32(scores_NN < res.x), axis=0)\n",
    "\n",
    "plt.figure(2)\n",
    "plt.hist(p_and_l_NN, bins=100, label='NN')\n",
    "plt.legend()"
   ]
  },
  {
   "cell_type": "code",
   "execution_count": 60,
   "id": "bd6fd527",
   "metadata": {},
   "outputs": [
    {
     "name": "stdout",
     "output_type": "stream",
     "text": [
      "Expected P&L (NN): 192035.84\n",
      "VaR (NN): -188320.00\n"
     ]
    }
   ],
   "source": [
    "# Compute the 'pct_VaR'%-VaR\n",
    "pct_VaR=95\n",
    "index = int(( (100-pct_VaR)*50000/100 )-1)\n",
    "print('Expected P&L (NN): {:.2f}'.format(np.mean(p_and_l_NN)))\n",
    "\n",
    "p_and_l_b_NN = np.sort(p_and_l_NN)\n",
    "print('VaR (NN): {:.2f}'.format(-p_and_l_b_NN[index]))\n",
    "\n"
   ]
  },
  {
   "cell_type": "code",
   "execution_count": null,
   "id": "bb1308e9",
   "metadata": {},
   "outputs": [],
   "source": []
  }
 ],
 "metadata": {
  "kernelspec": {
   "display_name": "test_env",
   "language": "python",
   "name": "test_env"
  },
  "language_info": {
   "codemirror_mode": {
    "name": "ipython",
    "version": 3
   },
   "file_extension": ".py",
   "mimetype": "text/x-python",
   "name": "python",
   "nbconvert_exporter": "python",
   "pygments_lexer": "ipython3",
   "version": "3.8.12"
  }
 },
 "nbformat": 4,
 "nbformat_minor": 5
}
