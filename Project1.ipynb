{
 "cells": [
  {
   "cell_type": "markdown",
   "metadata": {
    "id": "a7Bf9ZaIwstM"
   },
   "source": [
    "# A toy default risk model"
   ]
  },
  {
   "cell_type": "markdown",
   "metadata": {
    "id": "7vUS0v6riag7"
   },
   "source": [
    "## Dataset"
   ]
  },
  {
   "cell_type": "code",
   "execution_count": 7,
   "metadata": {
    "id": "myAkFsvViXUx"
   },
   "outputs": [],
   "source": [
    "#your name: Robin Wegmüller, Vladimir Solovyev, Wouter van Dijk\n",
    "#your student number: 17-821-513, 21-743-620, 21-730-197\n",
    "\n",
    "import numpy as np\n",
    "import math\n"
   ]
  },
  {
   "cell_type": "code",
   "execution_count": 8,
   "metadata": {
    "colab": {
     "base_uri": "https://localhost:8080/"
    },
    "id": "mTFQd8Dds4oQ",
    "outputId": "23cf8780-f1fc-4c0b-8e54-63edf17b48e6"
   },
   "outputs": [
    {
     "name": "stdout",
     "output_type": "stream",
     "text": [
      "Empirical mean: age = 48.95376975858977\n",
      "Empirical mean: monthly income in CHF 1000 = 8.018233805860051\n",
      "Empirical mean: self-employed indicator = 0.0976\n"
     ]
    }
   ],
   "source": [
    "# EXERCISE 1\n",
    "\n",
    "# We choose\n",
    "J = 15000\n",
    "K = 5000\n",
    "num_samples = J+K\n",
    "\n",
    "# draw random numbers for every feature\n",
    "x_1 = np.random.uniform(low=18., high=80., size=(num_samples, 1))               #age\n",
    "x_2 = np.random.uniform(low=1., high=15., size=(num_samples, 1))                #income (thousands)\n",
    "x_3 = np.float32(np.random.uniform(low=0., high=1., size=(num_samples, 1)) < .1)#self-employed or employed \n",
    "# 'self-employed' corresponds to 1 and is supposed to hold for roughly 10% of the population\n",
    "X = np.concatenate([x_1, x_2, x_3], axis=1)\n",
    "X_J = X[:J, :]\n",
    "\n",
    "# Compute the empirical means \n",
    "empirMean_J = np.mean(X_J, axis=0)\n",
    "print('Empirical mean: age = ' + str(empirMean_J[0]))\n",
    "print('Empirical mean: monthly income in CHF 1000 = ' + str(empirMean_J[1]))\n",
    "print('Empirical mean: self-employed indicator = ' + str(empirMean_J[2]))    \n"
   ]
  },
  {
   "cell_type": "code",
   "execution_count": 9,
   "metadata": {
    "colab": {
     "base_uri": "https://localhost:8080/"
    },
    "id": "ptpNf3dqsA4w",
    "outputId": "edd10b8f-9f2d-4527-be92-6836dcf7bc67"
   },
   "outputs": [
    {
     "name": "stdout",
     "output_type": "stream",
     "text": [
      "Default rate 4.87%\n"
     ]
    }
   ],
   "source": [
    "# EXERCISE 2\n",
    "sigmoid = lambda x: 1. / (1. + np.exp(-x))\n",
    "\n",
    "# PART A\n",
    "\n",
    "# Model parameters \n",
    "a_0 = -8.1\n",
    "a_1 = 3.9\n",
    "a_2 = -5.2\n",
    "a_3 = 5.1\n",
    "\n",
    "p_x = sigmoid(a_0 + a_1 * np.sqrt(np.absolute(x_1 - 55)) + a_2 * x_2 + a_3 * x_3)\n",
    "y = np.float32(np.squeeze(np.random.uniform(size=(num_samples, 1)) < p_x))\n",
    "print(\"Default rate {:.2f}%\".format(np.mean(y[:J]) * 100.))\n",
    "\n",
    "# Briefly comment on the case a_1 = a_2 = a_3 = 0 here:\n",
    "# The case implies the constant function p(x)=p_const=sigmoid(a_0).\n",
    "# Hence for every sample, the label for default is randomly selected from a Bern(p_const)\n",
    "# experiment. Therefore, any model based on the features will have 0 predictive power out of sample.\n",
    "# Based on this observation, the ROC curve will be theoretically diagonal for any model.\n",
    "# Assuming of course that the test data is out of sample (to construct the ROC curve)."
   ]
  },
  {
   "cell_type": "markdown",
   "metadata": {
    "id": "ZZpEp3e-pklL"
   },
   "source": [
    "## Logistic regression"
   ]
  },
  {
   "cell_type": "code",
   "execution_count": 10,
   "metadata": {
    "colab": {
     "base_uri": "https://localhost:8080/"
    },
    "id": "XmeXoFqdppk1",
    "outputId": "4c32106d-eb65-48aa-d482-458a8fffb5a0"
   },
   "outputs": [
    {
     "name": "stdout",
     "output_type": "stream",
     "text": [
      "total deviance for training data = 0.06783140243629884\n",
      "total deviance for test data = 0.07266266096124104\n"
     ]
    }
   ],
   "source": [
    "from sklearn.linear_model import LogisticRegression\n",
    "from sklearn import metrics\n",
    "import matplotlib.pyplot as plt\n",
    "from sklearn.metrics import log_loss\n",
    "\n",
    "# PART B\n",
    "\n",
    "# divide dataset into train- and testset\n",
    "X_train = X[:J, :]\n",
    "X_test = X[J:, :]\n",
    "y_train = y[:J]\n",
    "y_test = y[J:]\n",
    "p_test = p_x[J:]\n",
    "\n",
    "# train logitic regression\n",
    "model_LR = LogisticRegression().fit(X_train, y_train)\n",
    "\n",
    "# calculate the scores from the logistic regression\n",
    "scores_LR_train = model_LR.predict_proba(X_train)\n",
    "scores_LR = model_LR.predict_proba(X_test)\n",
    "# calculate total deviance for training and test data. \n",
    "# Note that scores_LR_train[:, 1] is the predicted default probability\n",
    "print('total deviance for training data = ' + str(log_loss(y_train, scores_LR_train[:, 1])))\n",
    "print('total deviance for test data = ' + str(log_loss(y_test, scores_LR[:, 1])))"
   ]
  },
  {
   "cell_type": "code",
   "execution_count": 11,
   "metadata": {
    "colab": {
     "base_uri": "https://localhost:8080/"
    },
    "id": "8peZToSIi8e_",
    "outputId": "b4241fc7-32a7-4787-d42c-8b3724e5b9cc"
   },
   "outputs": [
    {
     "name": "stdout",
     "output_type": "stream",
     "text": [
      "fraction of y_j=1: 0.12195121951219512\n"
     ]
    }
   ],
   "source": [
    "# PART C\n",
    "comp_LR = np.stack((scores_LR[:,1], y_test), axis=-1)\n",
    "select = (comp_LR[:, 0] <= 0.04) & (comp_LR[:, 0] >= 0.03)\n",
    "comp_LR_select = comp_LR[select, :]\n",
    "print('fraction of y_j=1: ' + str( np.mean(comp_LR_select[:,1]) ) )"
   ]
  },
  {
   "cell_type": "markdown",
   "metadata": {
    "id": "HJHYW_Wn1jcY"
   },
   "source": [
    "## Neural networks"
   ]
  },
  {
   "cell_type": "code",
   "execution_count": 12,
   "metadata": {
    "colab": {
     "base_uri": "https://localhost:8080/"
    },
    "id": "nvWAg9A91mu4",
    "outputId": "104f58f2-902a-492b-9d8b-2bb19b14142c"
   },
   "outputs": [
    {
     "ename": "ModuleNotFoundError",
     "evalue": "No module named 'tensorflow'",
     "output_type": "error",
     "traceback": [
      "\u001b[0;31m---------------------------------------------------------------------------\u001b[0m",
      "\u001b[0;31mModuleNotFoundError\u001b[0m                       Traceback (most recent call last)",
      "Input \u001b[0;32mIn [12]\u001b[0m, in \u001b[0;36m<cell line: 5>\u001b[0;34m()\u001b[0m\n\u001b[1;32m      1\u001b[0m \u001b[38;5;66;03m# PART D\u001b[39;00m\n\u001b[1;32m      2\u001b[0m \n\u001b[1;32m      3\u001b[0m \u001b[38;5;66;03m# Create and train neural network\u001b[39;00m\n\u001b[0;32m----> 5\u001b[0m \u001b[38;5;28;01mimport\u001b[39;00m \u001b[38;5;21;01mtensorflow\u001b[39;00m \u001b[38;5;28;01mas\u001b[39;00m \u001b[38;5;21;01mtf\u001b[39;00m\n\u001b[1;32m      6\u001b[0m \u001b[38;5;28;01mfrom\u001b[39;00m \u001b[38;5;21;01mtensorflow\u001b[39;00m \u001b[38;5;28;01mimport\u001b[39;00m keras \n\u001b[1;32m      8\u001b[0m \u001b[38;5;66;03m#build the nn model with 2 hidden layers\u001b[39;00m\n",
      "\u001b[0;31mModuleNotFoundError\u001b[0m: No module named 'tensorflow'"
     ]
    }
   ],
   "source": [
    "# PART D\n",
    "\n",
    "# Create and train neural network\n",
    "\n",
    "import tensorflow as tf\n",
    "from tensorflow import keras \n",
    "\n",
    "#build the nn model with 2 hidden layers\n",
    "model_NN = keras.Sequential(\n",
    "    [\n",
    "     keras.layers.BatchNormalization(),\n",
    "     keras.layers.Dense(32, activation='relu', name=\"hidden_layer_1\"),\n",
    "     keras.layers.Dense(32, activation='relu', name=\"hidden_layer_2\"),\n",
    "     keras.layers.Dense(1, activation='sigmoid', name=\"output_layer\")\n",
    "    ]\n",
    ")\n",
    "\n",
    "#the loss function\n",
    "def total_deviance(y_true, y_pred):\n",
    "    return tf.math.reduce_mean(-y_true * tf.math.log(y_pred) - (1. - y_true) * tf.math.log(1. - y_pred))\n",
    "\n",
    "#pick an optimizer\n",
    "model_NN.compile(\n",
    "    optimizer=keras.optimizers.Adam(learning_rate=0.001),\n",
    "    loss=total_deviance\n",
    ")\n",
    "\n",
    "#shuffle the data during training\n",
    "train_dataset = tf.data.Dataset.from_tensor_slices((X_train, np.float32(y_train)))\n",
    "train_dataset = train_dataset.shuffle(buffer_size=1024).batch(256)\n",
    "\n",
    "#fit the model\n",
    "model_NN.fit(\n",
    "    train_dataset,\n",
    "    batch_size=256,\n",
    "    epochs=10\n",
    ")\n",
    "\n"
   ]
  },
  {
   "cell_type": "code",
   "execution_count": null,
   "metadata": {},
   "outputs": [],
   "source": []
  },
  {
   "cell_type": "code",
   "execution_count": null,
   "metadata": {
    "colab": {
     "base_uri": "https://localhost:8080/"
    },
    "collapsed": true,
    "id": "EgappOzX4bf8",
    "outputId": "faf7f5cd-4dc2-4607-ec35-b7443f4b3b25"
   },
   "outputs": [],
   "source": [
    "#calculate the scores on the testdata\n",
    "scores_NN_train = model_NN(X_train)\n",
    "scores_NN = model_NN(X_test)\n",
    "\n",
    "print('total deviance for training data = ' + str(log_loss(y_train, scores_NN_train)))\n",
    "print('total deviance for test data = ' + str(log_loss(y_test, scores_NN)))"
   ]
  },
  {
   "cell_type": "code",
   "execution_count": null,
   "metadata": {
    "colab": {
     "base_uri": "https://localhost:8080/"
    },
    "id": "cEPpR4CaUmTC",
    "outputId": "5b561ef9-828b-46e3-c8a1-f4031031a926"
   },
   "outputs": [],
   "source": [
    "# PART E\n",
    "\n",
    "comp_NN = np.stack((scores_NN.numpy()[:,0], y_test), axis=-1)\n",
    "select = (comp_NN[:, 0] <= 0.04) & (comp_NN[:, 0] >= 0.03)\n",
    "comp_NN_select = comp_NN[select, :]\n",
    "print('fraction of y_j=1: ' + str( np.mean(comp_NN_select[:,1]) ) )"
   ]
  },
  {
   "cell_type": "code",
   "execution_count": 9,
   "metadata": {
    "colab": {
     "base_uri": "https://localhost:8080/",
     "height": 312
    },
    "id": "8CAceGwgy0Nu",
    "outputId": "6b8b15df-eb39-4429-c11f-3b92612faa81"
   },
   "outputs": [
    {
     "data": {
      "text/plain": [
       "<matplotlib.legend.Legend at 0x7fa8c03fdc10>"
      ]
     },
     "execution_count": 9,
     "metadata": {},
     "output_type": "execute_result"
    },
    {
     "data": {
      "image/png": "[encoded data removed]",
      "text/plain": [
       "<Figure size 432x288 with 1 Axes>"
      ]
     },
     "metadata": {
      "needs_background": "light"
     },
     "output_type": "display_data"
    }
   ],
   "source": [
    "# ADDITIONAL - Plot of the ROC curve\n",
    "from sklearn.metrics import roc_auc_score\n",
    "\n",
    "fpr_LR, tpr_LR, thresholds_LR = metrics.roc_curve(y_test, scores_LR[:, 1], pos_label=1)\n",
    "auc_LR = roc_auc_score(y_test, scores_LR[:, 1])\n",
    "fpr_NN, tpr_NN, thresholds_NN = metrics.roc_curve(y_test, scores_NN[:, 0], pos_label=1)\n",
    "auc_NN = roc_auc_score(y_test, scores_NN[:, 0])\n",
    "\n",
    "plt.plot(fpr_NN, tpr_NN, label='NN model AUC={:.2f}'.format(auc_NN))\n",
    "plt.plot(fpr_LR, tpr_LR, label='LR model AUC={:.2f}'.format(auc_LR))\n",
    "plt.plot([0, 1], [0, 1], 'k--')\n",
    "plt.xlabel('False positive rate')\n",
    "plt.ylabel('True positive rate')\n",
    "plt.title('ROC curve (NN vs. LR)')\n",
    "plt.legend(loc='best')"
   ]
  },
  {
   "cell_type": "markdown",
   "metadata": {
    "id": "7ESezTJnIqp4"
   },
   "source": [
    "## P&L Analysis"
   ]
  },
  {
   "cell_type": "code",
   "execution_count": 10,
   "metadata": {
    "id": "bb0p5HSAIuBd"
   },
   "outputs": [],
   "source": [
    "# EXERCISE 3\n",
    "\n",
    "# PART A\n",
    "\n",
    "# Preliminary comment:\n",
    "# The previous exercise shows that the NN model has a lower deviance compared to the logtistic regression.\n",
    "# Hence we derive the 'good investment opportunities' using the NN model.\n",
    "\n",
    "from scipy.stats import norm\n",
    "import matplotlib as mpl\n",
    "\n",
    "portfolio_size = K  # As stated in the exercise, we use features from the 'test' dataset (ie. x^j, j=J+1,...,J+K) -> that makes a portfolio of size K\n",
    "loan_amount = 1000. \n",
    "rate = 0.04 # Given in the exercise: all the loans have an interest of 4%\n",
    "\n",
    "# Simulate the defaults on the loan portfolio\n",
    "# In order to have more robust results, we perform a Monte Carlo simulation with 50'000 simulations.  \n",
    "# Remark: As stated in the exercise, we use features from the 'test' dataset (ie. x^j, j=J+1,...,K)\n",
    "n_replic = 50000\n",
    "defaults = np.float32(np.random.uniform(low=0., high=1., size=(portfolio_size, n_replic)) < p_test[:portfolio_size, :])  # select last K samples, which form the 'test' dataset\n",
    "\n",
    "# Now that the defaults are defined, we split the implementation of the strategy to a different cell.\n",
    "# This could allow us to run different analysis with the same defaults."
   ]
  },
  {
   "cell_type": "code",
   "execution_count": 11,
   "metadata": {
    "colab": {
     "base_uri": "https://localhost:8080/",
     "height": 300
    },
    "id": "-mxAZVup66yY",
    "outputId": "f607ca23-4d0a-4cbc-8d15-1bc7fe7931b8"
   },
   "outputs": [
    {
     "name": "stdout",
     "output_type": "stream",
     "text": [
      "0.12373091779253631\n"
     ]
    },
    {
     "data": {
      "text/plain": [
       "<matplotlib.legend.Legend at 0x7fa8c04e7710>"
      ]
     },
     "execution_count": 11,
     "metadata": {},
     "output_type": "execute_result"
    },
    {
     "data": {
      "image/png": "[encoded data removed]",
      "text/plain": [
       "<Figure size 432x288 with 1 Axes>"
      ]
     },
     "metadata": {
      "needs_background": "light"
     },
     "output_type": "display_data"
    }
   ],
   "source": [
    "# PART A (continued)\n",
    "\n",
    "# Description of the strategy:\n",
    "# We lend money to everyone with a predicted default probability lower than 'threshold'.\n",
    "# 'threshold' corresponds to a kind of hyperparameter:\n",
    "#   - a lower value imply less defaults, but also limits the benefits, because some a priori good quality loans would not have been issued\n",
    "#   - a high value makes it possible to have high returns, but increases the number of default loans that will be issues.  \n",
    "\n",
    "# Using previous data, we can compute the in-sample default rate (defaultR_ins). \n",
    "# As we can see with the ROC curves, the large AUC indicate that we already have a very high true positive rate for very low false positive rate.\n",
    "# Therefore, we could have defined the threshold as the (1-defaultR_ins)-quantile of the in-sample NN scores.\n",
    "# However, in the context of the problem we are trying to solve, we have to be careful: it needs multiple performing loans (25) to compensate one non-performing loan.\n",
    "# As seen below, the NN scores are heavily skewed: there is a range of values for which it is uncertain if the corresponding loan will default or not.\n",
    "# In order to compensate for this uncertainty and the need to 'compensate' a loss by many perfoming loans, we look at the '1-c*defaultR_ins', where c>1 is an arbitrary constant.\n",
    "# Based on the distribution of the data, multiple tests and the order of magnitude of the default rate (approx. 5%), we have identified c=2 as being relevant.\n",
    "# Based on the distribution of the NN results and the previous problem-specific considerations, this coefficient seems intuitively.\n",
    "\n",
    "defaultR_ins = np.mean(y[:J])\n",
    "threshold = np.quantile(scores_NN_train, 1.-2*defaultR_ins)\n",
    "# threshold = 0.2 # To compare to an arbitrary threshold\n",
    "print(threshold)\n",
    "p_and_l_NN = np.sum(loan_amount * (rate * (1. - defaults) - defaults) * np.float32(scores_NN < threshold), axis=0)\n",
    "\n",
    "plt.figure(2)\n",
    "plt.hist(p_and_l_NN, bins=100, label='NN')\n",
    "plt.legend()"
   ]
  },
  {
   "cell_type": "code",
   "execution_count": 12,
   "metadata": {
    "colab": {
     "base_uri": "https://localhost:8080/",
     "height": 265
    },
    "id": "azZ65kMd4M1L",
    "outputId": "7aa810c0-af0a-44cb-ca45-cae5ace55660"
   },
   "outputs": [
    {
     "data": {
      "image/png": "[encoded data removed]",
      "text/plain": [
       "<Figure size 432x288 with 1 Axes>"
      ]
     },
     "metadata": {
      "needs_background": "light"
     },
     "output_type": "display_data"
    }
   ],
   "source": [
    "# ADDITIONAL - Visualizing the in-sample NN scores\n",
    "plt.hist(scores_NN_train.numpy()[:,0], bins=100);"
   ]
  },
  {
   "cell_type": "code",
   "execution_count": 13,
   "metadata": {
    "colab": {
     "base_uri": "https://localhost:8080/"
    },
    "id": "ISkZ_wxr7wb8",
    "outputId": "68e42dfd-cfae-4dc9-c957-20c9421b6414"
   },
   "outputs": [
    {
     "name": "stdout",
     "output_type": "stream",
     "text": [
      "Expected P&L (NN): 180582.28\n",
      "VaR (NN): -179320.00\n"
     ]
    }
   ],
   "source": [
    "# PART B\n",
    "# Compute the 'pct_VaR'%-VaR\n",
    "pct_VaR=95\n",
    "index = int(( (100-pct_VaR)*n_replic/100 )-1)\n",
    "print('Expected P&L (NN): {:.2f}'.format(np.mean(p_and_l_NN)))\n",
    "\n",
    "p_and_l_b_NN = np.sort(p_and_l_NN)\n",
    "print('VaR (NN): {:.2f}'.format(-p_and_l_b_NN[index]))\n"
   ]
  },
  {
   "cell_type": "code",
   "execution_count": 14,
   "metadata": {
    "colab": {
     "base_uri": "https://localhost:8080/"
    },
    "id": "i_jKjObVF_6k",
    "outputId": "17f19e47-79fb-40ad-c1e0-24927cfab93e"
   },
   "outputs": [
    {
     "name": "stdout",
     "output_type": "stream",
     "text": [
      "     fun: 7.377351530800442e-05\n",
      "     jac: array([-3.35900562e-05])\n",
      " message: 'Optimization terminated successfully.'\n",
      "    nfev: 3\n",
      "     nit: 1\n",
      "    njev: 1\n",
      "  status: 0\n",
      " success: True\n",
      "       x: array([0.12])\n"
     ]
    }
   ],
   "source": [
    "### To go one step beyond\n",
    "# Here we optimized using in-sample data to minimize the amount of defaults. It results in a threshold of about 0.12\n",
    "# This results in a significant difference in variance of the returns! Running this in the above result we also see that the Expected\n",
    "# P&L is smaller, but that is even with perfectly fitting the threshold on the training data! So still looks quite robust.\n",
    "from scipy.optimize import minimize\n",
    "def to_opt(threshold):\n",
    "  to_give_a_loan = scores_NN_train.numpy() < threshold\n",
    "  pred_not_default = to_give_a_loan[to_give_a_loan] * 1 # Looks weird is correct\n",
    "  # print(pred_not_default.shape)\n",
    "  true_defaults = y_train[to_give_a_loan[:,0]]\n",
    "  return np.absolute(np.average((pred_not_default - true_defaults) == 0))\n",
    "\n",
    "res = minimize(to_opt, np.array(0.12), bounds=((0,1),), method=\"SLSQP\", options={'eps':0.01})\n",
    "print(res)\n"
   ]
  },
  {
   "cell_type": "code",
   "execution_count": 15,
   "metadata": {
    "colab": {
     "base_uri": "https://localhost:8080/",
     "height": 282
    },
    "id": "tJeCttETGw9K",
    "outputId": "35648ef2-370a-4529-eab2-629b212dd78d"
   },
   "outputs": [
    {
     "data": {
      "text/plain": [
       "<matplotlib.legend.Legend at 0x7fa8be574c90>"
      ]
     },
     "execution_count": 15,
     "metadata": {},
     "output_type": "execute_result"
    },
    {
     "data": {
      "image/png": "[encoded data removed]",
      "text/plain": [
       "<Figure size 432x288 with 1 Axes>"
      ]
     },
     "metadata": {
      "needs_background": "light"
     },
     "output_type": "display_data"
    }
   ],
   "source": [
    "# Rerun the code to for the new threshold\n",
    "p_and_l_NN = np.sum(loan_amount * (rate * (1. - defaults) - defaults) * np.float32(scores_NN < res.x), axis=0)\n",
    "\n",
    "plt.figure(2)\n",
    "plt.hist(p_and_l_NN, bins=100, label='NN')\n",
    "plt.legend()"
   ]
  },
  {
   "cell_type": "code",
   "execution_count": 16,
   "metadata": {
    "colab": {
     "base_uri": "https://localhost:8080/"
    },
    "id": "eku0MhQuKCOG",
    "outputId": "a796578b-6993-453d-bc1b-96e6d7561e8f"
   },
   "outputs": [
    {
     "name": "stdout",
     "output_type": "stream",
     "text": [
      "Expected P&L (NN): 180222.83\n",
      "VaR (NN): -178920.00\n"
     ]
    }
   ],
   "source": [
    "# Compute the 'pct_VaR'%-VaR\n",
    "pct_VaR=95\n",
    "index = int(( (100-pct_VaR)*n_replic/100 )-1)\n",
    "print('Expected P&L (NN): {:.2f}'.format(np.mean(p_and_l_NN)))\n",
    "\n",
    "p_and_l_b_NN = np.sort(p_and_l_NN)\n",
    "print('VaR (NN): {:.2f}'.format(-p_and_l_b_NN[index]))\n",
    "\n",
    "# As we can see from this run, the expected P&L is slightly lower and the VaR is worse as well.\n",
    "# This is likely due to overfitting, but the difference is in our opinion economically small (< 1%).\n",
    "# Hence, both aproaches lead to robust results and profits in this case study."
   ]
  }
 ],
 "metadata": {
  "colab": {
   "collapsed_sections": [],
   "name": "development.ipynb",
   "provenance": []
  },
  "kernelspec": {
   "display_name": "Python 3 (ipykernel)",
   "language": "python",
   "name": "python3"
  },
  "language_info": {
   "codemirror_mode": {
    "name": "ipython",
    "version": 3
   },
   "file_extension": ".py",
   "mimetype": "text/x-python",
   "name": "python",
   "nbconvert_exporter": "python",
   "pygments_lexer": "ipython3",
   "version": "3.8.3"
  }
 },
 "nbformat": 4,
 "nbformat_minor": 1
}
